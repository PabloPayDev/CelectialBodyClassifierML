{
 "cells": [
  {
   "cell_type": "code",
   "execution_count": 2,
   "metadata": {},
   "outputs": [
    {
     "name": "stdout",
     "output_type": "stream",
     "text": [
      "Dataset y Output\n",
      "[[-0.37607108  2.85955243 -0.59824457]\n",
      " [-0.37607108  2.80196128 -0.59968969]\n",
      " [-0.37607108  2.83104483 -0.60010501]\n",
      " ...\n",
      " [-0.37607139 -0.35391866 -0.50343915]\n",
      " [-0.37607139 -0.35391679 -0.49875621]\n",
      " [-0.37607139 -0.35391748 -0.49862577]]\n",
      "[[1. 0. 0. ... 0. 0. 0.]\n",
      " [1. 0. 0. ... 0. 0. 0.]\n",
      " [1. 0. 0. ... 0. 0. 0.]\n",
      " ...\n",
      " [0. 0. 0. ... 0. 0. 1.]\n",
      " [0. 0. 0. ... 0. 0. 1.]\n",
      " [0. 0. 0. ... 0. 0. 1.]]\n",
      "Validationset y ValidationOutput\n",
      "[[-0.37607085  2.82597894 -0.60322265]\n",
      " [-0.37607085  2.83145461 -0.59768046]\n",
      " [-0.37607086  2.85639056 -0.58529868]\n",
      " ...\n",
      " [-0.37607117 -0.353915   -0.48879441]\n",
      " [-0.37607117 -0.35391892 -0.50745619]\n",
      " [-0.37607117 -0.35391787 -0.50123163]]\n",
      "[[1. 0. 0. ... 0. 0. 0.]\n",
      " [1. 0. 0. ... 0. 0. 0.]\n",
      " [1. 0. 0. ... 0. 0. 0.]\n",
      " ...\n",
      " [0. 0. 0. ... 0. 0. 1.]\n",
      " [0. 0. 0. ... 0. 0. 1.]\n",
      " [0. 0. 0. ... 0. 0. 1.]]\n",
      "Testset y TestOutput\n",
      "[[-0.37607144  2.79877045 -0.60262377]\n",
      " [-0.37607144  2.82808602 -0.59722985]\n",
      " [-0.37607144  2.84411679 -0.59752437]\n",
      " ...\n",
      " [-0.37607176 -0.3539191  -0.50459636]\n",
      " [-0.37607176 -0.35391501 -0.48643414]\n",
      " [-0.37607176 -0.35391545 -0.490886  ]]\n",
      "[[1. 0. 0. ... 0. 0. 0.]\n",
      " [1. 0. 0. ... 0. 0. 0.]\n",
      " [1. 0. 0. ... 0. 0. 0.]\n",
      " ...\n",
      " [0. 0. 0. ... 0. 0. 1.]\n",
      " [0. 0. 0. ... 0. 0. 1.]\n",
      " [0. 0. 0. ... 0. 0. 1.]]\n"
     ]
    }
   ],
   "source": [
    "import numpy as np\n",
    "import pandas as pd\n",
    "from sklearn.metrics import accuracy_score, confusion_matrix\n",
    "import torch.nn as nn\n",
    "import torch\n",
    "\n",
    "#Leer DataSet\n",
    "\n",
    "X = pd.read_csv('DataSet_Celestial_Body.csv')\n",
    "y = pd.read_csv('Outputs_Celestial_Body.csv')\n",
    "\n",
    "X = X.iloc[:,1]\n",
    "y = y.iloc[:,1]\n",
    "\n",
    "#Leer DataSet_val\n",
    "\n",
    "X_val = pd.read_csv('DataSet_Celestial_Body_val.csv')\n",
    "y_val = pd.read_csv('Outputs_Celestial_Body_val.csv')\n",
    "\n",
    "X_val = X_val.iloc[:,1]\n",
    "y_val = y_val.iloc[:,1]\n",
    "\n",
    "#Leer DataSet_test\n",
    "\n",
    "X_test = pd.read_csv('DataSet_Celestial_Body_test.csv')\n",
    "y_test = pd.read_csv('Outputs_Celestial_Body_test.csv')\n",
    "\n",
    "X_test = X_test.iloc[:,1]\n",
    "y_test = y_test.iloc[:,1]\n",
    "\n",
    "#Imprimir :V\n",
    "#print(\"Dataset - Validationset - Testset\")\n",
    "#print(X)\n",
    "#print(y)\n",
    "#print(X_val)\n",
    "#print(y_val)\n",
    "#print(X_test)\n",
    "#print(y_test)\n",
    "\n",
    "#Convertir a un numpy array\n",
    "X = np.array(X)\n",
    "y = np.array(y)\n",
    "\n",
    "X_val = np.array(X_val)\n",
    "y_val = np.array(y_val)\n",
    "\n",
    "X_test = np.array(X_test)\n",
    "y_test = np.array(y_test)\n",
    "\n",
    "#Reshape a los Dataset\n",
    "X = X.reshape((2000*9,3))\n",
    "y = y.reshape((2000*9,9))\n",
    "\n",
    "X_val = X_val.reshape((650*9,3))\n",
    "y_val = y_val.reshape((650*9,9))\n",
    "\n",
    "X_test = X_test.reshape((650*9,3))\n",
    "y_test = y_test.reshape((650*9,9))\n",
    "\n",
    "#Imprimir :V\n",
    "print(\"Dataset y Output\")\n",
    "print(X)\n",
    "print(y)\n",
    "print(\"Validationset y ValidationOutput\")\n",
    "print(X_val)\n",
    "print(y_val)\n",
    "print(\"Testset y TestOutput\")\n",
    "print(X_test)\n",
    "print(y_test)"
   ]
  },
  {
   "cell_type": "code",
   "execution_count": 7,
   "metadata": {},
   "outputs": [],
   "source": [
    "class Net(nn.Module):\n",
    "    def __init__(self):\n",
    "        super(Net, self).__init__()\n",
    "        self.fc1 = nn.Linear(X.shape[1], 18)\n",
    "        self.g1 = nn.ReLU()\n",
    "        self.fc2 = nn.Linear(18, 18)\n",
    "        self.g2 = nn.ReLU()\n",
    "        self.fc3 = nn.Linear(18, 9)\n",
    "        self.g3 = nn.Softmax()\n",
    "        \n",
    "    def forward(self, x):\n",
    "        out = self.fc1(x)\n",
    "        out = self.g1(out)\n",
    "        out = self.fc2(out)\n",
    "        out = self.g2(out)\n",
    "        out = self.fc3(out)\n",
    "        out = self.g3(out)\n",
    "        \n",
    "        return out"
   ]
  },
  {
   "cell_type": "code",
   "execution_count": 8,
   "metadata": {},
   "outputs": [],
   "source": [
    "net = Net()\n",
    "criterio = nn.CrossEntropyLoss()\n",
    "optimizer= torch.optim.SGD(net.parameters(), lr=0.1)"
   ]
  },
  {
   "cell_type": "code",
   "execution_count": 9,
   "metadata": {},
   "outputs": [
    {
     "name": "stderr",
     "output_type": "stream",
     "text": [
      "  0%|                                                                                          | 0/562 [00:00<?, ?it/s]C:\\Users\\Hp\\Anaconda3\\lib\\site-packages\\ipykernel_launcher.py:17: UserWarning: Implicit dimension choice for softmax has been deprecated. Change the call to include dim=X as an argument.\n",
      "100%|███████████████████████████████████████████████████████████████████████████████| 562/562 [00:03<00:00, 183.86it/s]\n",
      "C:\\Users\\Hp\\Anaconda3\\lib\\site-packages\\ipykernel_launcher.py:24: UserWarning: invalid index of a 0-dim tensor. This will be an error in PyTorch 0.5. Use tensor.item() to convert a 0-dim tensor to a Python number\n"
     ]
    },
    {
     "name": "stdout",
     "output_type": "stream",
     "text": [
      "tensor(1.9919)\n"
     ]
    },
    {
     "name": "stderr",
     "output_type": "stream",
     "text": [
      "100%|███████████████████████████████████████████████████████████████████████████████| 562/562 [00:02<00:00, 260.33it/s]\n"
     ]
    },
    {
     "name": "stdout",
     "output_type": "stream",
     "text": [
      "tensor(1.7407)\n"
     ]
    },
    {
     "name": "stderr",
     "output_type": "stream",
     "text": [
      "100%|███████████████████████████████████████████████████████████████████████████████| 562/562 [00:01<00:00, 287.50it/s]\n"
     ]
    },
    {
     "name": "stdout",
     "output_type": "stream",
     "text": [
      "tensor(1.5807)\n"
     ]
    },
    {
     "name": "stderr",
     "output_type": "stream",
     "text": [
      "100%|███████████████████████████████████████████████████████████████████████████████| 562/562 [00:01<00:00, 296.84it/s]\n"
     ]
    },
    {
     "name": "stdout",
     "output_type": "stream",
     "text": [
      "tensor(1.6268)\n"
     ]
    },
    {
     "name": "stderr",
     "output_type": "stream",
     "text": [
      "100%|███████████████████████████████████████████████████████████████████████████████| 562/562 [00:02<00:00, 268.14it/s]\n"
     ]
    },
    {
     "name": "stdout",
     "output_type": "stream",
     "text": [
      "tensor(1.5933)\n"
     ]
    },
    {
     "name": "stderr",
     "output_type": "stream",
     "text": [
      "100%|███████████████████████████████████████████████████████████████████████████████| 562/562 [00:01<00:00, 296.19it/s]\n"
     ]
    },
    {
     "name": "stdout",
     "output_type": "stream",
     "text": [
      "tensor(1.6231)\n"
     ]
    },
    {
     "name": "stderr",
     "output_type": "stream",
     "text": [
      "100%|███████████████████████████████████████████████████████████████████████████████| 562/562 [00:01<00:00, 299.15it/s]\n"
     ]
    },
    {
     "name": "stdout",
     "output_type": "stream",
     "text": [
      "tensor(1.6353)\n"
     ]
    }
   ],
   "source": [
    "from tqdm import trange\n",
    "def iterate_minibatches(inputs, targets, batchsize, shuffle=False):\n",
    "    assert len(inputs) == len(targets)\n",
    "    if shuffle:\n",
    "        indices = np.random.permutation(len(inputs))\n",
    "    for start_idx in trange(0, len(inputs) - batchsize + 1, batchsize):\n",
    "        if shuffle:\n",
    "            excerpt = indices[start_idx:start_idx + batchsize]\n",
    "        else:\n",
    "            excerpt = slice(start_idx, start_idx + batchsize)\n",
    "            \n",
    "        yield inputs[excerpt], targets[excerpt]\n",
    "        \n",
    "for epoch in range(7):\n",
    "    for x_batch,y_batch in iterate_minibatches(X,np.argmax(y,axis=-1),batchsize=32,shuffle=True):\n",
    "        optimizer.zero_grad()\n",
    "        y_hat = net(torch.from_numpy(x_batch).float())\n",
    "        \n",
    "        loss = criterio(y_hat, torch.from_numpy(y_batch).long())\n",
    "        \n",
    "        loss.backward()\n",
    "        optimizer.step()\n",
    "        \n",
    "    print(loss.data[0])"
   ]
  },
  {
   "cell_type": "code",
   "execution_count": 11,
   "metadata": {},
   "outputs": [
    {
     "name": "stderr",
     "output_type": "stream",
     "text": [
      "C:\\Users\\Hp\\Anaconda3\\lib\\site-packages\\ipykernel_launcher.py:17: UserWarning: Implicit dimension choice for softmax has been deprecated. Change the call to include dim=X as an argument.\n"
     ]
    },
    {
     "name": "stdout",
     "output_type": "stream",
     "text": [
      "torch.Size([5850, 9])\n"
     ]
    }
   ],
   "source": [
    "y_hat = net(torch.from_numpy(X_test).float())\n",
    "preds = y_hat.detach().numpy()\n",
    "print(y_hat.shape)"
   ]
  },
  {
   "cell_type": "code",
   "execution_count": 13,
   "metadata": {},
   "outputs": [
    {
     "name": "stdout",
     "output_type": "stream",
     "text": [
      "Acuracy en TestSet\n",
      "Matris de Confucion en TestSet\n"
     ]
    },
    {
     "data": {
      "text/plain": [
       "array([[650,   0,   0,   0,   0,   0,   0,   0,   0],\n",
       "       [  0,   0, 650,   0,   0,   0,   0,   0,   0],\n",
       "       [  0,   0,   0,   0,   0,   0,   0,   0,   0],\n",
       "       [  0, 650,   0, 650,   0,   0,   0,   0,   0],\n",
       "       [  0,   0,   0,   0, 650,   0,   0,   0,   0],\n",
       "       [  0,   0,   0,   0,   0, 650,   0,   0,   0],\n",
       "       [  0,   0,   0,   0,   0,   0, 650,   0,   0],\n",
       "       [  0,   0,   0,   0,   0,   0,   0, 650,   0],\n",
       "       [  0,   0,   0,   0,   0,   0,   0,   0, 650]], dtype=int64)"
      ]
     },
     "execution_count": 13,
     "metadata": {},
     "output_type": "execute_result"
    }
   ],
   "source": [
    "print(\"Acuracy en TestSet\")\n",
    "accuracy_score(np.argmax(preds, axis=-1), np.argmax(y_test, axis=-1))\n",
    "print(\"Matris de Confucion en TestSet\")\n",
    "confusion_matrix(np.argmax(preds, axis=-1), np.argmax(y_test, axis=-1))"
   ]
  },
  {
   "cell_type": "code",
   "execution_count": null,
   "metadata": {},
   "outputs": [],
   "source": []
  }
 ],
 "metadata": {
  "kernelspec": {
   "display_name": "Python 3",
   "language": "python",
   "name": "python3"
  },
  "language_info": {
   "codemirror_mode": {
    "name": "ipython",
    "version": 3
   },
   "file_extension": ".py",
   "mimetype": "text/x-python",
   "name": "python",
   "nbconvert_exporter": "python",
   "pygments_lexer": "ipython3",
   "version": "3.7.0"
  }
 },
 "nbformat": 4,
 "nbformat_minor": 2
}
