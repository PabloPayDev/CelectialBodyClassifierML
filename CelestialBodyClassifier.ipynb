{
 "cells": [
  {
   "cell_type": "code",
   "execution_count": 2,
   "metadata": {},
   "outputs": [
    {
     "name": "stderr",
     "output_type": "stream",
     "text": [
      "C:\\Users\\pay-7\\AppData\\Local\\Temp\\ipykernel_10880\\4068295007.py:3: DeprecationWarning: \n",
      "Pyarrow will become a required dependency of pandas in the next major release of pandas (pandas 3.0),\n",
      "(to allow more performant data types, such as the Arrow string type, and better interoperability with other libraries)\n",
      "but was not found to be installed on your system.\n",
      "If this would cause problems for you,\n",
      "please provide us feedback at https://github.com/pandas-dev/pandas/issues/54466\n",
      "        \n",
      "  import pandas as pd\n"
     ]
    },
    {
     "name": "stdout",
     "output_type": "stream",
     "text": [
      "Dataset y Output\n",
      "[[-0.37605875  2.83629005 -0.60086577]\n",
      " [-0.37605875  2.85115574 -0.5943379 ]\n",
      " [-0.37605875  2.81079533 -0.59738269]\n",
      " ...\n",
      " [-0.37605907 -0.35391733 -0.49788529]\n",
      " [-0.37605907 -0.35391524 -0.48937662]\n",
      " [-0.37605907 -0.35391683 -0.49573501]]\n",
      "[[1. 0. 0. ... 0. 0. 0.]\n",
      " [1. 0. 0. ... 0. 0. 0.]\n",
      " [1. 0. 0. ... 0. 0. 0.]\n",
      " ...\n",
      " [0. 0. 0. ... 0. 0. 1.]\n",
      " [0. 0. 0. ... 0. 0. 1.]\n",
      " [0. 0. 0. ... 0. 0. 1.]]\n",
      "Validationset y ValidationOutput\n",
      "[[-0.37607163  2.84963439 -0.59950737]\n",
      " [-0.37607164  2.82805745 -0.59586254]\n",
      " [-0.37607164  2.82401021 -0.59399181]\n",
      " ...\n",
      " [-0.37607195 -0.35391754 -0.49704685]\n",
      " [-0.37607195 -0.35391533 -0.48989928]\n",
      " [-0.37607195 -0.35391431 -0.48265283]]\n",
      "[[1. 0. 0. ... 0. 0. 0.]\n",
      " [1. 0. 0. ... 0. 0. 0.]\n",
      " [1. 0. 0. ... 0. 0. 0.]\n",
      " ...\n",
      " [0. 0. 0. ... 0. 0. 1.]\n",
      " [0. 0. 0. ... 0. 0. 1.]\n",
      " [0. 0. 0. ... 0. 0. 1.]]\n",
      "Testset y TestOutput\n",
      "[[-0.37606738  2.81834218 -0.59463992]\n",
      " [-0.37606738  2.84296985 -0.58860669]\n",
      " [-0.37606737  2.82124484 -0.60938059]\n",
      " ...\n",
      " [-0.37606769 -0.35391836 -0.50185591]\n",
      " [-0.37606769 -0.3539154  -0.48963804]\n",
      " [-0.37606769 -0.35391896 -0.50649799]]\n",
      "[[1. 0. 0. ... 0. 0. 0.]\n",
      " [1. 0. 0. ... 0. 0. 0.]\n",
      " [1. 0. 0. ... 0. 0. 0.]\n",
      " ...\n",
      " [0. 0. 0. ... 0. 0. 1.]\n",
      " [0. 0. 0. ... 0. 0. 1.]\n",
      " [0. 0. 0. ... 0. 0. 1.]]\n"
     ]
    }
   ],
   "source": [
    "import matplotlib.pyplot as plt\n",
    "import numpy as np\n",
    "import pandas as pd\n",
    "from sklearn.metrics import accuracy_score, confusion_matrix\n",
    "\n",
    "#Leer DataSet\n",
    "\n",
    "X = pd.read_csv('DataSet_Celestial_Body.csv')\n",
    "y = pd.read_csv('Outputs_Celestial_Body.csv')\n",
    "\n",
    "X = X.iloc[:,1]\n",
    "y = y.iloc[:,1]\n",
    "\n",
    "#Leer DataSet_val\n",
    "\n",
    "X_val = pd.read_csv('DataSet_Celestial_Body_val.csv')\n",
    "y_val = pd.read_csv('Outputs_Celestial_Body_val.csv')\n",
    "\n",
    "X_val = X_val.iloc[:,1]\n",
    "y_val = y_val.iloc[:,1]\n",
    "\n",
    "#Leer DataSet_test\n",
    "\n",
    "X_test = pd.read_csv('DataSet_Celestial_Body_test.csv')\n",
    "y_test = pd.read_csv('Outputs_Celestial_Body_test.csv')\n",
    "\n",
    "X_test = X_test.iloc[:,1]\n",
    "y_test = y_test.iloc[:,1]\n",
    "\n",
    "#Imprimir :V\n",
    "#print(\"Dataset - Validationset - Testset\")\n",
    "#print(X)\n",
    "#print(y)\n",
    "#print(X_val)\n",
    "#print(y_val)\n",
    "#print(X_test)\n",
    "#print(y_test)\n",
    "\n",
    "#Convertir a un numpy array\n",
    "X = np.array(X)\n",
    "y = np.array(y)\n",
    "\n",
    "X_val = np.array(X_val)\n",
    "y_val = np.array(y_val)\n",
    "\n",
    "X_test = np.array(X_test)\n",
    "y_test = np.array(y_test)\n",
    "\n",
    "#Reshape a los Dataset\n",
    "X = X.reshape((2000*9,3))\n",
    "y = y.reshape((2000*9,9))\n",
    "\n",
    "X_val = X_val.reshape((650*9,3))\n",
    "y_val = y_val.reshape((650*9,9))\n",
    "\n",
    "X_test = X_test.reshape((650*9,3))\n",
    "y_test = y_test.reshape((650*9,9))\n",
    "\n",
    "#Imprimir :V\n",
    "print(\"Dataset y Output\")\n",
    "print(X)\n",
    "print(y)\n",
    "print(\"Validationset y ValidationOutput\")\n",
    "print(X_val)\n",
    "print(y_val)\n",
    "print(\"Testset y TestOutput\")\n",
    "print(X_test)\n",
    "print(y_test)"
   ]
  },
  {
   "cell_type": "code",
   "execution_count": 3,
   "metadata": {},
   "outputs": [],
   "source": [
    "# Regresion Softmax\n",
    "def stable_softmax(Z):\n",
    "    exps = np.exp(Z - np.max(Z))\n",
    "    return exps / exps.sum(axis=-1,keepdims=True) ##Sumatoria se realiza para cada fila\n",
    "def grad_softmax_crossentropy(Y_hat, Y):\n",
    "    \"\"\"\n",
    "    Y: Etiquetas de tamaño (m, c) //m: nro ejemplos, c: nro clases\n",
    "    Y_hat: Predicciones (stable softmax) de tamaño (m, c) //m: nro ejemplos, c: nro clases\n",
    "    \"\"\"\n",
    "    return (Y_hat - Y) / Y.shape[0] ## . /len(Y_hat) es el término (1/m)\n",
    "def cross_entropy_with_logits(Z: np.ndarray, Y: np.ndarray):\n",
    "    \"\"\"\n",
    "    Z: La predicción de la última capa sin activar (m, c)\n",
    "    Y: El vector de etiquetas sin one hot encoding (m,). Si es de tamaño (m, c) se extraerá solo\n",
    "    \"\"\"\n",
    "    if len(Y.shape) > 1:\n",
    "        Y = Y.argmax(axis=-1)\n",
    "    \n",
    "    Z_j = Z[range(len(Z)), Y] ## LA PREDICCIÓN SIN ACTIVAR EN LA COLUMNA DEL Y CORRESPONDIENTE\n",
    "    loss = - Z_j + np.log(np.sum(np.exp(Z),axis=-1)) ## LOG SOFTMAX CON LA SUMATORI PARA CADA FILA\n",
    "    \n",
    "    return loss\n",
    "def predict(theta, x, bias):\n",
    "    return stable_softmax(x @ theta + bias)"
   ]
  },
  {
   "cell_type": "code",
   "execution_count": 4,
   "metadata": {},
   "outputs": [],
   "source": [
    "# NeuralNetwork\n",
    "\n",
    "class Layer:\n",
    "    def __init__(self):\n",
    "        # A dummy layer does nothing\n",
    "        pass\n",
    "    \n",
    "    def forward(self, input):\n",
    "        # A dummy layer just returns whatever it gets as input.\n",
    "        return input\n",
    "\n",
    "    def backward(self, input, grad_output):\n",
    "        num_units = input.shape[1]\n",
    "        \n",
    "        d_layer_d_input = np.eye(num_units)\n",
    "        \n",
    "        return np.dot(grad_output, d_layer_d_input)\n",
    "class ReLU(Layer):\n",
    "    def __init__(self):\n",
    "        pass\n",
    "    \n",
    "    def forward(self, input):\n",
    "        return np.maximum(0,input)\n",
    "    \n",
    "    def backward(self, input, grad_output):\n",
    "        relu_grad = input > 0\n",
    "        return grad_output*relu_grad    #dL/dZ[l]\n",
    "class Dense(Layer):\n",
    "    def __init__(self, input_units, output_units, learning_rate=0.1, initializer='standard'):\n",
    "        self.learning_rate = learning_rate\n",
    "        \n",
    "        scaler = 0.01 if initializer == 'standard' else np.sqrt(2.0/input_units)\n",
    "        \n",
    "        self.weights = np.random.randn(input_units, output_units)*scaler\n",
    "        self.biases = np.zeros(output_units)\n",
    "        \n",
    "    def forward(self,input):\n",
    "        return input @ self.weights + self.biases #<your code here>\n",
    "    \n",
    "    def backward(self,input,grad_output):\n",
    "        # Calculamos dL/dA[l-1]\n",
    "        grad_input = grad_output @ self.weights.T #dL/dA[l-1] = <dL/dZ[l], w[l]'> -> dL/dX -> dL/dA[l-1]\n",
    "        \n",
    "        # Calculamos para los pesos y los bias\n",
    "        grad_weights = input.T @ grad_output #dL/dW[l] = <A[l-1]', dL/dZ[l]> -> dL/dθ\n",
    "        grad_biases = np.sum(grad_output, axis=0) #dL/db[l] = sum_rows(b[l])\n",
    "        \n",
    "        assert grad_weights.shape == self.weights.shape and grad_biases.shape == self.biases.shape\n",
    "        \n",
    "        # Actualizamos parámetros\n",
    "        self.weights = self.weights - self.learning_rate * grad_weights\n",
    "        self.biases = self.biases - self.learning_rate * grad_biases\n",
    "\n",
    "        return grad_input ## Retornamos grad para la anterior capa"
   ]
  },
  {
   "cell_type": "code",
   "execution_count": 5,
   "metadata": {},
   "outputs": [],
   "source": [
    "# Entrenamiento\n",
    "\n",
    "def forward(network, X):\n",
    "    activations = []\n",
    "    input = X\n",
    "\n",
    "    for layer in network:\n",
    "        input = layer.forward(input)\n",
    "        activations.append(input)    \n",
    "        \n",
    "    assert len(activations) == len(network)\n",
    "    return activations\n",
    "\n",
    "def predict(network,X):\n",
    "    logits = forward(network,X)[-1]\n",
    "    preds = stable_softmax(logits)\n",
    "    #return logits.argmax(axis=-1) #Max element of each row\n",
    "    return preds.argmax(axis=-1)\n",
    "\n",
    "def train(network,X,y):\n",
    "    # Obtener activaciones\n",
    "    layer_activations = forward(network,X)\n",
    "    layer_inputs = [X]+layer_activations  #layer_input[i] es una entrada para network[i]\n",
    "    logits = layer_activations[-1] #extraemos la última capa sin activar\n",
    "    \n",
    "    # Calculamos el Loss y el gradiente inicial para retropopagar\n",
    "    loss = cross_entropy_with_logits(logits,y)\n",
    "    loss_grad = grad_softmax_crossentropy(stable_softmax(logits),y) #dZ[L]\n",
    "    \n",
    "    # Retropopagamos\n",
    "    for layer, input in zip(reversed(network), reversed(layer_inputs[:-1])):\n",
    "        loss_grad = layer.backward(input, loss_grad)\n",
    "        \n",
    "    return np.mean(loss)\n",
    "\n",
    "from tqdm import trange\n",
    "from IPython.display import clear_output\n",
    "\n",
    "def iterate_minibatches(inputs, targets, batchsize, shuffle=False):\n",
    "    assert len(inputs) == len(targets)\n",
    "    if shuffle:\n",
    "        indices = np.random.permutation(len(inputs))\n",
    "    for start_idx in trange(0, len(inputs) - batchsize + 1, batchsize):\n",
    "        if shuffle:\n",
    "            excerpt = indices[start_idx:start_idx + batchsize]\n",
    "        else:\n",
    "            excerpt = slice(start_idx, start_idx + batchsize)\n",
    "            \n",
    "        yield inputs[excerpt], targets[excerpt]\n"
   ]
  },
  {
   "cell_type": "code",
   "execution_count": 6,
   "metadata": {},
   "outputs": [
    {
     "name": "stdout",
     "output_type": "stream",
     "text": [
      "Building NeuralNetwork\n",
      "Initial Weigths\n"
     ]
    },
    {
     "data": {
      "text/plain": [
       "array([[-0.57315403,  0.23781092,  0.34504423, -0.17316862,  0.73159074,\n",
       "         0.64516146, -0.26635418, -0.27506819,  0.7982502 ,  0.13623149,\n",
       "        -0.13294054, -1.75687625,  0.08286285, -1.10113097,  0.8639529 ,\n",
       "         0.02782044, -0.04430092,  1.08272858],\n",
       "       [ 1.54139101,  1.11677661, -0.29831396, -0.16800963,  1.11722433,\n",
       "         1.18352826,  0.18640854,  0.3984224 , -1.43791566,  1.47289492,\n",
       "         1.09735443,  0.40370259,  0.20524576, -0.13046835, -0.66227973,\n",
       "        -1.04399041,  0.94205365, -0.9574224 ],\n",
       "       [-1.1421667 ,  1.73417316,  0.31457224, -0.18930303, -0.34926575,\n",
       "        -0.10612186,  0.6336102 ,  0.08529548,  0.7704462 ,  0.81248058,\n",
       "        -1.77171108, -0.02351114, -0.6353637 ,  0.8938275 ,  0.66778013,\n",
       "        -0.55799153, -0.69326742, -0.19633906]])"
      ]
     },
     "execution_count": 6,
     "metadata": {},
     "output_type": "execute_result"
    }
   ],
   "source": [
    "#Creando NeuralNetwork\n",
    "print(\"Building NeuralNetwork\")\n",
    "\n",
    "network = []\n",
    "network.append(Dense(X.shape[1],18, initializer='xavier'))\n",
    "network.append(ReLU())\n",
    "network.append(Dense(18,18, initializer='xavier'))\n",
    "network.append(ReLU())\n",
    "network.append(Dense(18,9, initializer='xavier'))\n",
    "\n",
    "print(\"Initial Weigths\")\n",
    "network[0].weights"
   ]
  },
  {
   "cell_type": "code",
   "execution_count": 7,
   "metadata": {},
   "outputs": [
    {
     "name": "stdout",
     "output_type": "stream",
     "text": [
      "Training NeuralNetwork\n",
      "El valor del -loss- es:\n"
     ]
    },
    {
     "data": {
      "text/plain": [
       "2.6181408875173346"
      ]
     },
     "execution_count": 7,
     "metadata": {},
     "output_type": "execute_result"
    }
   ],
   "source": [
    "#Entrenando NeuralNetwork\n",
    "print(\"Training NeuralNetwork\")\n",
    "print(\"El valor del -loss- es:\")\n",
    "train(network,X,y)"
   ]
  },
  {
   "cell_type": "code",
   "execution_count": 8,
   "metadata": {},
   "outputs": [
    {
     "data": {
      "text/plain": [
       "array([[-0.57283013,  0.23697913,  0.34911947, -0.16950741,  0.73341629,\n",
       "         0.64489164, -0.25860824, -0.2704976 ,  0.79814287,  0.13574465,\n",
       "        -0.14321419, -1.75635101,  0.08168125, -1.09597044,  0.86048968,\n",
       "         0.02830303, -0.04206715,  1.08940913],\n",
       "       [ 1.52894882,  1.12002949, -0.29675175, -0.16408326,  1.11446269,\n",
       "         1.19219851,  0.19688995,  0.39912326, -1.44046747,  1.45308474,\n",
       "         1.11014156,  0.39789755,  0.20659859, -0.12561018, -0.66091489,\n",
       "        -1.0415901 ,  0.91924193, -0.95773167],\n",
       "       [-1.14041304,  1.73309109,  0.30691911, -0.18697663, -0.34937373,\n",
       "        -0.10837882,  0.61118933,  0.07480215,  0.77665281,  0.82517073,\n",
       "        -1.76960044, -0.02193419, -0.63528162,  0.88683298,  0.66904961,\n",
       "        -0.55469812, -0.68857152, -0.19859501]])"
      ]
     },
     "execution_count": 8,
     "metadata": {},
     "output_type": "execute_result"
    }
   ],
   "source": [
    "network[0].weights"
   ]
  },
  {
   "cell_type": "code",
   "execution_count": 9,
   "metadata": {},
   "outputs": [
    {
     "name": "stdout",
     "output_type": "stream",
     "text": [
      "Epoch 9\n",
      "Train accuracy: 0.9575\n",
      "Val accuracy: 0.9538461538461539\n"
     ]
    },
    {
     "data": {
      "image/png": "[encoded data removed]",
      "text/plain": [
       "<Figure size 640x480 with 1 Axes>"
      ]
     },
     "metadata": {},
     "output_type": "display_data"
    }
   ],
   "source": [
    "from IPython.display import clear_output\n",
    "train_log = []\n",
    "val_log = []\n",
    "\n",
    "for epoch in range(10):\n",
    "\n",
    "    for x_batch,y_batch in iterate_minibatches(X,y,batchsize=32,shuffle=True):\n",
    "        train(network,x_batch,y_batch)\n",
    "    \n",
    "    args_y_train = np.argmax(y, axis=-1)\n",
    "    args_y_val = np.argmax(y_val, axis=-1)\n",
    "    train_log.append(np.mean(predict(network,X)==args_y_train))\n",
    "    val_log.append(np.mean(predict(network,X_val)==args_y_val))\n",
    "    \n",
    "    clear_output()\n",
    "    print(\"Epoch\",epoch)\n",
    "    print(\"Train accuracy:\",train_log[-1])\n",
    "    print(\"Val accuracy:\",val_log[-1])\n",
    "    plt.plot(train_log,label='train accuracy')\n",
    "    plt.plot(val_log,label='val accuracy')\n",
    "    plt.legend(loc='best')\n",
    "    plt.grid()\n",
    "    plt.show()"
   ]
  },
  {
   "cell_type": "code",
   "execution_count": 10,
   "metadata": {},
   "outputs": [
    {
     "name": "stdout",
     "output_type": "stream",
     "text": [
      "Porcentaje de aciertos en TestSet\n",
      "Matris de confucion\n"
     ]
    },
    {
     "data": {
      "text/plain": [
       "array([[650,   0,   0,   0,   0,   0,   0,   0,   0],\n",
       "       [  0, 650,   0, 250,   0,   0,   0,   0,   0],\n",
       "       [  0,   0, 650,   0,   0,   0,   0,   0,   0],\n",
       "       [  0,   0,   0, 400,   0,   0,   0,   0,   0],\n",
       "       [  0,   0,   0,   0, 650,   0,   0,   0,   0],\n",
       "       [  0,   0,   0,   0,   0, 650,   0,   0,   0],\n",
       "       [  0,   0,   0,   0,   0,   0, 650,   0,   0],\n",
       "       [  0,   0,   0,   0,   0,   0,   0, 650,   0],\n",
       "       [  0,   0,   0,   0,   0,   0,   0,   0, 650]], dtype=int64)"
      ]
     },
     "execution_count": 10,
     "metadata": {},
     "output_type": "execute_result"
    }
   ],
   "source": [
    "#Porcentaje de aciertos Testset y COnfucionMatrix\n",
    "print(\"Porcentaje de aciertos en TestSet\")\n",
    "accuracy_score(predict(network, X_test), np.argmax(y_test, axis=-1))\n",
    "\n",
    "print(\"Matris de confucion\")\n",
    "confusion_matrix(predict(network, X_test), np.argmax(y_test, axis=-1))"
   ]
  },
  {
   "cell_type": "code",
   "execution_count": null,
   "metadata": {},
   "outputs": [],
   "source": []
  }
 ],
 "metadata": {
  "kernelspec": {
   "display_name": "Python 3",
   "language": "python",
   "name": "python3"
  },
  "language_info": {
   "codemirror_mode": {
    "name": "ipython",
    "version": 3
   },
   "file_extension": ".py",
   "mimetype": "text/x-python",
   "name": "python",
   "nbconvert_exporter": "python",
   "pygments_lexer": "ipython3",
   "version": "3.11.4"
  }
 },
 "nbformat": 4,
 "nbformat_minor": 2
}
